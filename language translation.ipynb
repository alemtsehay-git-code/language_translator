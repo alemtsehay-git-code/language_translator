{
 "cells": [
  {
   "cell_type": "code",
   "execution_count": 11,
   "id": "08beaddd",
   "metadata": {},
   "outputs": [],
   "source": [
    "from googletrans import Translator"
   ]
  },
  {
   "cell_type": "code",
   "execution_count": null,
   "id": "99ade3d9",
   "metadata": {},
   "outputs": [
    {
     "name": "stdout",
     "output_type": "stream",
     "text": [
      "Enter the text you want to translate: ሰላም\n",
      "Enter the source language code (e.g., 'en' for English, 'am' for Amharic): am\n",
      "Enter the destination language code (e.g., 'en' for English, 'am' for Amharic): en\n",
      "Translated Text: Hello\n",
      "Enter the text you want to translate: hey\n",
      "Enter the source language code (e.g., 'en' for English, 'am' for Amharic): en\n",
      "Enter the destination language code (e.g., 'en' for English, 'am' for Amharic): am\n",
      "Translated Text: ሄይ\n"
     ]
    }
   ],
   "source": [
    "from googletrans import Translator\n",
    "\n",
    "class Translation:\n",
    "    def __init__(self):\n",
    "        self.translator = Translator()\n",
    "\n",
    "    def text_translation(self):\n",
    "        while True:\n",
    "           text = input(\"Enter the text you want to translate: \")\n",
    "           src_language = input(\"Enter the source language code (e.g., 'en' for English, 'am' for Amharic): \")\n",
    "           dest_language = input(\"Enter the destination language code (e.g., 'en' for English, 'am' for Amharic): \")\n",
    "           translation = self.translator.translate(text, src=src_language, dest=dest_language)\n",
    "           translated_text = translation.text\n",
    "           print(\"Translated Text:\", translated_text)\n",
    "\n",
    "translation_serv = Translation()\n",
    "translation_serv.text_translation()\n"
   ]
  },
  {
   "cell_type": "code",
   "execution_count": null,
   "id": "a646d95a",
   "metadata": {},
   "outputs": [],
   "source": []
  }
 ],
 "metadata": {
  "kernelspec": {
   "display_name": "Python 3",
   "language": "python",
   "name": "python3"
  },
  "language_info": {
   "codemirror_mode": {
    "name": "ipython",
    "version": 3
   },
   "file_extension": ".py",
   "mimetype": "text/x-python",
   "name": "python",
   "nbconvert_exporter": "python",
   "pygments_lexer": "ipython3",
   "version": "3.8.8"
  }
 },
 "nbformat": 4,
 "nbformat_minor": 5
}
